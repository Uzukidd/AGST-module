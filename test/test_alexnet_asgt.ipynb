{
 "cells": [
  {
   "cell_type": "markdown",
   "metadata": {},
   "source": [
    "## Load dataset"
   ]
  },
  {
   "cell_type": "code",
   "execution_count": 1,
   "metadata": {},
   "outputs": [],
   "source": [
    "import torch\n",
    "import torch.nn as nn\n",
    "from torchvision import datasets, transforms, models\n",
    "from torch.utils.data import DataLoader\n",
    "\n",
    "transform = transforms.Compose([\n",
    "    transforms.Resize((224, 224)), \n",
    "])\n",
    "\n",
    "train_dataset = datasets.MNIST(root='./data', train=True, transform=transforms.Compose([\n",
    "    transforms.Grayscale(num_output_channels=3), \n",
    "    transforms.ToTensor()\n",
    "]), download=True)\n",
    "train_loader = DataLoader(train_dataset, batch_size=128, shuffle=False)\n",
    "\n",
    "test_dataset = datasets.MNIST(root='./data', train=False, transform=transforms.Compose([\n",
    "    transforms.Grayscale(num_output_channels=3), \n",
    "    transforms.ToTensor()\n",
    "]), download=True)\n",
    "test_loader = DataLoader(test_dataset, batch_size=128, shuffle=False)\n",
    "\n",
    "DATA_SIZE = train_dataset[0][0].size()\n"
   ]
  },
  {
   "cell_type": "markdown",
   "metadata": {},
   "source": [
    "## Load model"
   ]
  },
  {
   "cell_type": "code",
   "execution_count": 2,
   "metadata": {},
   "outputs": [
    {
     "name": "stdout",
     "output_type": "stream",
     "text": [
      "Successfully load weights from \"./alexnet_weights.pth\"\n"
     ]
    },
    {
     "name": "stderr",
     "output_type": "stream",
     "text": [
      "100%|██████████| 79/79 [00:01<00:00, 41.24it/s]\n"
     ]
    },
    {
     "name": "stdout",
     "output_type": "stream",
     "text": [
      "Accuracy: 96.24%\n"
     ]
    },
    {
     "name": "stderr",
     "output_type": "stream",
     "text": [
      "100%|██████████| 79/79 [00:02<00:00, 26.88it/s]"
     ]
    },
    {
     "name": "stdout",
     "output_type": "stream",
     "text": [
      "Robustness accuracy: 22.78%\n"
     ]
    },
    {
     "name": "stderr",
     "output_type": "stream",
     "text": [
      "\n"
     ]
    }
   ],
   "source": [
    "import os\n",
    "import asgt\n",
    "from asgt import model_utils\n",
    "from asgt import attack_utils\n",
    "from tqdm import tqdm\n",
    "\n",
    "DEVICE = torch.device(\"cuda\")\n",
    "WEIGHTS_PATH = \"./alexnet_weights.pth\"\n",
    "\n",
    "model, have_loaded_weights = model_utils.load_model(\"alexnet\", \n",
    "                                                    WEIGHTS_PATH, \n",
    "                                                    DEVICE, \n",
    "                                                    transform)\n",
    "\n",
    "if have_loaded_weights:\n",
    "    loss_func = nn.CrossEntropyLoss()\n",
    "    FGSM_model = attack_utils.FGSM(model, loss_func, eps = 0.25)\n",
    "\n",
    "    attack_utils.evaluate_model(model, test_loader, DEVICE)\n",
    "    attack_utils.evaluate_model_robustness(model, test_loader, FGSM_model, DEVICE)"
   ]
  },
  {
   "cell_type": "markdown",
   "metadata": {},
   "source": [
    "## Fine-tune model"
   ]
  },
  {
   "cell_type": "code",
   "execution_count": 3,
   "metadata": {},
   "outputs": [
    {
     "name": "stdout",
     "output_type": "stream",
     "text": [
      "Already loaded pretrained wweights.\n"
     ]
    }
   ],
   "source": [
    "import torch.optim as optim\n",
    "import numpy as np\n",
    "\n",
    "criterion = nn.CrossEntropyLoss()\n",
    "optimizer = optim.Adam(model.parameters(), lr=1e-3)\n",
    "\n",
    "num_epochs = 1\n",
    "if not have_loaded_weights:\n",
    "    for epoch in range(num_epochs):\n",
    "        model.train()\n",
    "        running_loss = 0.0\n",
    "        for idx, data in tqdm(enumerate(train_loader), \n",
    "                          total=train_loader.__len__()):\n",
    "            batch_X, batch_Y = data\n",
    "            batch_X:torch.Tensor = batch_X.to(DEVICE)\n",
    "            batch_Y:torch.Tensor = batch_Y.to(DEVICE)\n",
    "            \n",
    "            outputs = model(batch_X)\n",
    "            loss = criterion(outputs, batch_Y)\n",
    "            \n",
    "            optimizer.zero_grad()\n",
    "            loss.backward()\n",
    "            optimizer.step()\n",
    "            \n",
    "            running_loss += loss.item()\n",
    "        print(f\"Epoch [{epoch + 1}/{num_epochs}], Loss: {running_loss / len(train_loader):.4f}\")\n",
    "        torch.save(model.state_dict(), WEIGHTS_PATH)\n",
    "        \n",
    "        model.eval()\n",
    "        totall_accuracy = []\n",
    "        with torch.no_grad():\n",
    "            for idx, data in tqdm(enumerate(test_loader), \n",
    "                          total=test_loader.__len__()):\n",
    "                batch_X, batch_Y = data\n",
    "                batch_X:torch.Tensor = batch_X.to(DEVICE)\n",
    "                batch_Y:torch.Tensor = batch_Y.to(DEVICE)\n",
    "                \n",
    "                outputs = model(batch_X)\n",
    "                predicted = outputs.argmax(1)\n",
    "                totall_accuracy.append((predicted == batch_Y).float().mean().item())\n",
    "\n",
    "        totall_accuracy = np.array(totall_accuracy).mean()\n",
    "        print(f\"Epoch [{epoch + 1}/{num_epochs}], Accuracy: {100 * totall_accuracy:.2f}\")\n",
    "        \n",
    "else:\n",
    "    print(\"Already loaded pretrained wweights.\")\n"
   ]
  },
  {
   "cell_type": "markdown",
   "metadata": {},
   "source": [
    "## ASGT"
   ]
  },
  {
   "cell_type": "code",
   "execution_count": 4,
   "metadata": {},
   "outputs": [
    {
     "name": "stderr",
     "output_type": "stream",
     "text": [
      "  0%|          | 0/1 [00:00<?, ?it/s]"
     ]
    },
    {
     "name": "stdout",
     "output_type": "stream",
     "text": [
      "ASGT on 0.2\n",
      "Successfully load weights from \"./alexnet_weights.pth\"\n"
     ]
    },
    {
     "name": "stderr",
     "output_type": "stream",
     "text": [
      "100%|██████████| 79/79 [00:01<00:00, 48.88it/s]\n"
     ]
    },
    {
     "name": "stdout",
     "output_type": "stream",
     "text": [
      "Accuracy: 96.24%\n"
     ]
    },
    {
     "name": "stderr",
     "output_type": "stream",
     "text": [
      "100%|██████████| 79/79 [00:02<00:00, 29.12it/s]\n",
      "/home/ksas/miniconda3/envs/env_pcbm_base/lib/python3.12/site-packages/captum/_utils/gradient.py:57: UserWarning: Input Tensor 0 did not already require gradients, required_grads has been set automatically.\n",
      "  warnings.warn(\n"
     ]
    },
    {
     "name": "stdout",
     "output_type": "stream",
     "text": [
      "Robustness accuracy: 27.43%\n"
     ]
    },
    {
     "name": "stderr",
     "output_type": "stream",
     "text": [
      "100%|██████████| 469/469 [00:09<00:00, 47.13it/s] | 0/1 [00:43<?, ?it/s]\n"
     ]
    },
    {
     "name": "stdout",
     "output_type": "stream",
     "text": [
      "Accuracy: 97.97%\n"
     ]
    },
    {
     "name": "stderr",
     "output_type": "stream",
     "text": [
      "100%|██████████| 79/79 [00:01<00:00, 41.71it/s]\n"
     ]
    },
    {
     "name": "stdout",
     "output_type": "stream",
     "text": [
      "Accuracy: 98.09%\n"
     ]
    },
    {
     "name": "stderr",
     "output_type": "stream",
     "text": [
      "100%|██████████| 79/79 [00:02<00:00, 28.92it/s]\n",
      "Eps 0.2,Epoch [1/1], Loss: 0.8815: 100%|██████████| 1/1 [00:58<00:00, 58.43s/it]"
     ]
    },
    {
     "name": "stdout",
     "output_type": "stream",
     "text": [
      "Robustness accuracy: 97.13%\n"
     ]
    },
    {
     "name": "stderr",
     "output_type": "stream",
     "text": [
      "\n"
     ]
    }
   ],
   "source": [
    "from asgt import *\n",
    "from captum.attr import Saliency\n",
    "\n",
    "LEARNING_RATE = 1e-3 # 1e-2 not work here\n",
    "EPS = [0.20]\n",
    "\n",
    "K = int(DATA_SIZE[-1] * DATA_SIZE[-2] * 0.3)\n",
    "LAMBDA = 1.0\n",
    "\n",
    "robustness_list = []\n",
    "\n",
    "eps_tqdm = tqdm(EPS[robustness_list.__len__():])\n",
    "for eps in eps_tqdm:\n",
    "    print(f\"ASGT on {eps}\")\n",
    "    model, have_loaded_weights = model_utils.load_model(\"alexnet\", \n",
    "                                                        WEIGHTS_PATH, \n",
    "                                                        DEVICE, \n",
    "                                                        transform)\n",
    "    saliency = Saliency(model)\n",
    "    optimizer = optim.Adam(model.parameters(), lr=LEARNING_RATE)\n",
    "    optimizer.zero_grad()\n",
    "\n",
    "    def training_forward_func(loss:torch.Tensor):\n",
    "        optimizer.zero_grad()\n",
    "        loss.backward()\n",
    "        optimizer.step()\n",
    "    \n",
    "    asgt = ASGT(\n",
    "        model=model,\n",
    "        training_forward_func = training_forward_func,\n",
    "        loss_func=nn.CrossEntropyLoss(),\n",
    "        attak_func=\"FGSM\",\n",
    "        explain_func=partial(saliency.attribute, abs=False),\n",
    "        eps=eps,\n",
    "        k=K,\n",
    "        lam=LAMBDA,\n",
    "        feature_range=[0.0, 1.0],\n",
    "        device=torch.device(DEVICE)\n",
    "    )\n",
    "    # robustness = asgt.evaluate_model_robustness(test_loader)\n",
    "    # asgt.evaluate_model(train_loader)\n",
    "    asgt.evaluate_model(test_loader)\n",
    "    robustness = asgt.evaluate_model_robustness(test_loader)\n",
    "    \n",
    "    num_epochs = 1\n",
    "    for epoch in range(num_epochs):\n",
    "        running_loss = asgt.train_one_epoch(train_loader, use_tqdm=False)\n",
    "        eps_tqdm.set_description(f\"Eps {eps},Epoch [{epoch + 1}/{num_epochs}], Loss: {running_loss / len(train_loader):.4f}\")\n",
    "        \n",
    "        if hasattr(model, \"model\"):\n",
    "            torch.save(model.model.state_dict(), f\"./robust_alexnet_{epoch + 1:02d}.pth\")\n",
    "        else: \n",
    "            torch.save(model.state_dict(), f\"./robust_alexnet_{epoch + 1:02d}.pth\")\n",
    "        \n",
    "        if os.path.exists(f\"./robust_alexnet_{epoch:02d}.pth\"):\n",
    "            os.remove(f\"./robust_alexnet_{epoch:02d}.pth\")\n",
    "    \n",
    "    asgt.evaluate_model(train_loader)\n",
    "    asgt.evaluate_model(test_loader)\n",
    "    robustness = asgt.evaluate_model_robustness(test_loader)\n",
    "        \n",
    "    robustness_list.append(robustness)"
   ]
  }
 ],
 "metadata": {
  "kernelspec": {
   "display_name": "env_pcbm_base",
   "language": "python",
   "name": "python3"
  },
  "language_info": {
   "codemirror_mode": {
    "name": "ipython",
    "version": 3
   },
   "file_extension": ".py",
   "mimetype": "text/x-python",
   "name": "python",
   "nbconvert_exporter": "python",
   "pygments_lexer": "ipython3",
   "version": "3.12.5"
  }
 },
 "nbformat": 4,
 "nbformat_minor": 2
}
