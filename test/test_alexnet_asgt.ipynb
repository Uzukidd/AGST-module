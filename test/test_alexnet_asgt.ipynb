{
 "cells": [
  {
   "cell_type": "markdown",
   "metadata": {},
   "source": [
    "## Load dataset"
   ]
  },
  {
   "cell_type": "code",
   "execution_count": 4,
   "metadata": {},
   "outputs": [],
   "source": [
    "import torch\n",
    "import torch.nn as nn\n",
    "from torchvision import datasets, transforms, models\n",
    "from torch.utils.data import DataLoader\n",
    "\n",
    "transform = transforms.Compose([\n",
    "    transforms.Resize((224, 224)), \n",
    "    transforms.Grayscale(num_output_channels=3), \n",
    "    transforms.ToTensor(),\n",
    "])\n",
    "\n",
    "train_dataset = datasets.MNIST(root='./data', train=True, transform=transform, download=True)\n",
    "train_loader = DataLoader(train_dataset, batch_size=128, shuffle=False)\n",
    "\n",
    "test_dataset = datasets.MNIST(root='./data', train=False, transform=transform, download=True)\n",
    "test_loader = DataLoader(test_dataset, batch_size=128, shuffle=False)\n"
   ]
  },
  {
   "cell_type": "markdown",
   "metadata": {},
   "source": [
    "## Load model"
   ]
  },
  {
   "cell_type": "code",
   "execution_count": 5,
   "metadata": {},
   "outputs": [],
   "source": [
    "import os\n",
    "from tqdm import tqdm\n",
    "\n",
    "DEVICE = \"cuda\"\n",
    "WEIGHTS_PATH = \"./alexnet_weights.pth\"\n",
    "\n",
    "def load_model():\n",
    "    model = models.alexnet(weights=models.AlexNet_Weights.DEFAULT)\n",
    "    model.classifier[6] = nn.Linear(model.classifier[6].in_features, 10)\n",
    "    model = model.to(DEVICE)\n",
    "\n",
    "    have_loaded_weights = False\n",
    "    if os.path.exists(WEIGHTS_PATH):\n",
    "        model.load_state_dict(torch.load(WEIGHTS_PATH))\n",
    "        have_loaded_weights = True\n",
    "        print(f\"Successfully load weights from \\\"{WEIGHTS_PATH}\\\"\")\n",
    "    return model, have_loaded_weights"
   ]
  },
  {
   "cell_type": "markdown",
   "metadata": {},
   "source": [
    "## Fine-tune model"
   ]
  },
  {
   "cell_type": "code",
   "execution_count": null,
   "metadata": {},
   "outputs": [],
   "source": [
    "import torch.optim as optim\n",
    "import numpy as np\n",
    "\n",
    "model, have_loaded_weights = load_model()\n",
    "criterion = nn.CrossEntropyLoss()\n",
    "optimizer = optim.Adam(model.parameters(), lr=1e-3)\n",
    "\n",
    "num_epochs = 1\n",
    "if not have_loaded_weights:\n",
    "    for epoch in range(num_epochs):\n",
    "        model.train()\n",
    "        running_loss = 0.0\n",
    "        for idx, data in tqdm(enumerate(train_loader), \n",
    "                          total=train_loader.__len__()):\n",
    "            batch_X, batch_Y = data\n",
    "            batch_X:torch.Tensor = batch_X.to(DEVICE)\n",
    "            batch_Y:torch.Tensor = batch_Y.to(DEVICE)\n",
    "            \n",
    "            outputs = model(batch_X)\n",
    "            loss = criterion(outputs, batch_Y)\n",
    "            \n",
    "            optimizer.zero_grad()\n",
    "            loss.backward()\n",
    "            optimizer.step()\n",
    "            \n",
    "            running_loss += loss.item()\n",
    "        print(f\"Epoch [{epoch + 1}/{num_epochs}], Loss: {running_loss / len(train_loader):.4f}\")\n",
    "        torch.save(model.state_dict(), WEIGHTS_PATH)\n",
    "        \n",
    "        model.eval()\n",
    "        totall_accuracy = []\n",
    "        with torch.no_grad():\n",
    "            for idx, data in tqdm(enumerate(test_loader), \n",
    "                          total=test_loader.__len__()):\n",
    "                batch_X, batch_Y = data\n",
    "                batch_X:torch.Tensor = batch_X.to(DEVICE)\n",
    "                batch_Y:torch.Tensor = batch_Y.to(DEVICE)\n",
    "                \n",
    "                outputs = model(batch_X)\n",
    "                predicted = outputs.argmax(1)\n",
    "                totall_accuracy.append((predicted == batch_Y).float().mean().item())\n",
    "\n",
    "        totall_accuracy = np.array(totall_accuracy).mean()\n",
    "        print(f\"Epoch [{epoch + 1}/{num_epochs}], Accuracy: {100 * totall_accuracy:.2f}\")\n",
    "        \n",
    "else:\n",
    "    print(\"Already loaded pretrained wweights.\")\n"
   ]
  },
  {
   "cell_type": "markdown",
   "metadata": {},
   "source": [
    "## ASGT"
   ]
  },
  {
   "cell_type": "code",
   "execution_count": null,
   "metadata": {},
   "outputs": [],
   "source": [
    "from asgt import *\n",
    "from captum.attr import Saliency\n",
    "\n",
    "LEARNING_RATE = 1e-3 # 1e-2 in the paper but does not work here.\n",
    "EPS = [0.0, 0.05, 0.1, 0.15, 0.2, 0.25, 0.3, 0.35, 0.4]\n",
    "K = int((3 * 224 * 224) * 0.3)\n",
    "LAMBDA = 1.0\n",
    "\n",
    "\n",
    "for eps in EPS:\n",
    "    print(f\"ASGT on {eps}\")\n",
    "    model, have_loaded_weights = load_model()\n",
    "    saliency = Saliency(model)\n",
    "    optimizer = optim.SGD(model.parameters(), lr=LEARNING_RATE)\n",
    "\n",
    "    def training_forward_func(loss:torch.Tensor):\n",
    "        optimizer.zero_grad()\n",
    "        loss.backward()\n",
    "        optimizer.step()\n",
    "    \n",
    "    asgt = ASGT(\n",
    "        model=model,\n",
    "        training_forward_func = training_forward_func,\n",
    "        loss_func=nn.CrossEntropyLoss(),\n",
    "        attak_func=\"FGSM\",\n",
    "        explain_func=saliency.attribute,\n",
    "        eps=eps,\n",
    "        k=K,\n",
    "        lam=LAMBDA,\n",
    "        feature_range=[0.0, 1.0],\n",
    "        device=torch.device(DEVICE)\n",
    "    )\n",
    "\n",
    "    num_epochs = 1\n",
    "    for epoch in range(num_epochs):\n",
    "        running_loss = asgt.train_one_epoch(train_loader)\n",
    "        print(f\"Epoch [{epoch + 1}/{num_epochs}], Loss: {running_loss / len(train_loader):.4f}\")\n",
    "        # torch.save(model.state_dict(), f\"./robust_alexnet_{epoch + 1:2d}.pth\")\n",
    "        # asgt.evaluate_model(train_loader)\n",
    "        # asgt.evaluate_model(test_loader)\n",
    "        robustness = asgt.evaluate_model_robustness(test_loader)"
   ]
  }
 ],
 "metadata": {
  "kernelspec": {
   "display_name": "env_pcbm_base",
   "language": "python",
   "name": "python3"
  },
  "language_info": {
   "codemirror_mode": {
    "name": "ipython",
    "version": 3
   },
   "file_extension": ".py",
   "mimetype": "text/x-python",
   "name": "python",
   "nbconvert_exporter": "python",
   "pygments_lexer": "ipython3",
   "version": "3.12.5"
  }
 },
 "nbformat": 4,
 "nbformat_minor": 2
}
